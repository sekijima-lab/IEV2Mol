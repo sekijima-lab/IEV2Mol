{
 "cells": [
  {
   "cell_type": "code",
   "execution_count": 2,
   "metadata": {},
   "outputs": [
    {
     "name": "stderr",
     "output_type": "stream",
     "text": [
      "/home/nakamura/miniconda3/envs/iev2mol/lib/python3.7/site-packages/tqdm/auto.py:22: TqdmWarning: IProgress not found. Please update jupyter and ipywidgets. See https://ipywidgets.readthedocs.io/en/stable/user_install.html\n",
      "  from .autonotebook import tqdm as notebook_tqdm\n"
     ]
    },
    {
     "name": "stdout",
     "output_type": "stream",
     "text": [
      "tensor_len: 207\n"
     ]
    }
   ],
   "source": [
    "import torch\n",
    "from inter_vae_0110 import InteractionVAE\n",
    "from Smiles_Vector_Dataset import Smiles_Vector_Dataset\n",
    "from inter_vae_0110 import InteractionVAE\n",
    "\n",
    "smiles_train_path = '../data/AKT1/AKT1_train.pt'\n",
    "smiles_valid_path = '../data/AKT1/AKT1_valid.pt'\n",
    "trained_inter_vae_path = './AKT1/'\n",
    "\n",
    "train_data = torch.load(smiles_train_path)\n",
    "val_data = torch.load(smiles_valid_path)\n",
    "tensor_len = len(train_data[0][1])\n",
    "print(f'tensor_len: {tensor_len}')\n",
    "device = torch.device(\"cuda\" if torch.cuda.is_available() else \"cpu\")"
   ]
  },
  {
   "cell_type": "code",
   "execution_count": 2,
   "metadata": {},
   "outputs": [
    {
     "data": {
      "text/plain": [
       "<All keys matched successfully>"
      ]
     },
     "execution_count": 2,
     "metadata": {},
     "output_type": "execute_result"
    }
   ],
   "source": [
    "int_vae = InteractionVAE(device, tensor_len).to(device)\n",
    "ckpt = torch.load('./AKT1/inter_vae_200.pt')\n",
    "int_vae.load_state_dict(ckpt)"
   ]
  },
  {
   "cell_type": "code",
   "execution_count": null,
   "metadata": {},
   "outputs": [],
   "source": [
    "int_vae.forward()"
   ]
  },
  {
   "cell_type": "code",
   "execution_count": 54,
   "metadata": {},
   "outputs": [],
   "source": [
    "int_vae.eval()\n",
    "zs = []\n",
    "with torch.no_grad():\n",
    "    val_loss = 0\n",
    "    val_inter_recon_loss = 0\n",
    "    val_inter_kl_loss = 0\n",
    "    for val_batch_idx, (_, input_vecs) in enumerate(\n",
    "        torch.utils.data.DataLoader(\n",
    "            train_data,\n",
    "            batch_size=128,\n",
    "            shuffle=True,\n",
    "            drop_last=True,)\n",
    "        ):\n",
    "        input_vecs = input_vecs.to(device)\n",
    "        # ロス計算\n",
    "        output_vecs, z, tmp_inter_kl_loss = int_vae.forward(input_vecs)\n",
    "        zs.append(z)"
   ]
  },
  {
   "cell_type": "code",
   "execution_count": 55,
   "metadata": {},
   "outputs": [],
   "source": [
    "z_list = []\n",
    "for i in range(len(zs)):\n",
    "    z_list.extend(z[i].tolist())"
   ]
  },
  {
   "cell_type": "code",
   "execution_count": 56,
   "metadata": {},
   "outputs": [
    {
     "data": {
      "text/plain": [
       "1344"
      ]
     },
     "execution_count": 56,
     "metadata": {},
     "output_type": "execute_result"
    }
   ],
   "source": [
    "len(z_list)"
   ]
  },
  {
   "cell_type": "code",
   "execution_count": 57,
   "metadata": {},
   "outputs": [],
   "source": [
    "import numpy as np\n",
    "np_zs = np.array(z_list)\n",
    "mean = np.mean(np_zs, axis=0)\n",
    "var = np.var(np_zs, axis=0)"
   ]
  },
  {
   "cell_type": "code",
   "execution_count": 58,
   "metadata": {},
   "outputs": [
    {
     "name": "stdout",
     "output_type": "stream",
     "text": [
      "mean: -0.04007825885006847\n",
      "var: 0.9822239632257201\n"
     ]
    }
   ],
   "source": [
    "print(f'mean: {mean}')\n",
    "print(f'var: {var}')"
   ]
  },
  {
   "cell_type": "code",
   "execution_count": null,
   "metadata": {},
   "outputs": [],
   "source": []
  },
  {
   "cell_type": "code",
   "execution_count": null,
   "metadata": {},
   "outputs": [],
   "source": []
  },
  {
   "cell_type": "code",
   "execution_count": 5,
   "metadata": {},
   "outputs": [
    {
     "data": {
      "text/plain": [
       "8340"
      ]
     },
     "execution_count": 5,
     "metadata": {},
     "output_type": "execute_result"
    }
   ],
   "source": [
    "train_path = '../data/smitensor_iev_train_dataset_tensorized_by_smiles_vae_dmqp1m_no_dot_dup.pt'\n",
    "train_dataset = torch.load(train_path)\n",
    "len(train_dataset)\n"
   ]
  }
 ],
 "metadata": {
  "kernelspec": {
   "display_name": "iev2mol",
   "language": "python",
   "name": "python3"
  },
  "language_info": {
   "codemirror_mode": {
    "name": "ipython",
    "version": 3
   },
   "file_extension": ".py",
   "mimetype": "text/x-python",
   "name": "python",
   "nbconvert_exporter": "python",
   "pygments_lexer": "ipython3",
   "version": "3.7.3"
  }
 },
 "nbformat": 4,
 "nbformat_minor": 2
}
